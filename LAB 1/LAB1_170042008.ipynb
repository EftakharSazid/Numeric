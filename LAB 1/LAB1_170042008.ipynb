{
  "nbformat": 4,
  "nbformat_minor": 0,
  "metadata": {
    "colab": {
      "name": " LAB1_170042008.ipynb",
      "provenance": [],
      "collapsed_sections": []
    },
    "kernelspec": {
      "name": "python3",
      "display_name": "Python 3"
    }
  },
  "cells": [
    {
      "cell_type": "markdown",
      "metadata": {
        "id": "96mBkKTmkN17",
        "colab_type": "text"
      },
      "source": [
        "# LAB 1"
      ]
    },
    {
      "cell_type": "markdown",
      "metadata": {
        "id": "aPFsVRZjkdUA",
        "colab_type": "text"
      },
      "source": [
        "#### TASK: Observation of Taylor's Method"
      ]
    },
    {
      "cell_type": "markdown",
      "metadata": {
        "id": "IPDh6H7_bDhF",
        "colab_type": "text"
      },
      "source": [
        "At first we have to import the required libraries.\n"
      ]
    },
    {
      "cell_type": "code",
      "metadata": {
        "id": "orRLYqAnTjEb",
        "colab_type": "code",
        "colab": {}
      },
      "source": [
        "from sympy import *\n",
        "from mpmath import *\n",
        "import numpy as np\n",
        "import matplotlib.pyplot as plt"
      ],
      "execution_count": 0,
      "outputs": []
    },
    {
      "cell_type": "markdown",
      "metadata": {
        "id": "gDFQuJaqbbWt",
        "colab_type": "text"
      },
      "source": [
        "Now we will find out the actual value of the given equation for the value X=2.1 \n"
      ]
    },
    {
      "cell_type": "code",
      "metadata": {
        "id": "Px79bfFUTzvO",
        "colab_type": "code",
        "outputId": "a5bcd36f-6d46-470a-9739-069c707c4ae3",
        "colab": {
          "base_uri": "https://localhost:8080/",
          "height": 34
        }
      },
      "source": [
        "x = Symbol('x')\n",
        "n=1\n",
        "a=[]\n",
        "eq_prime=x**6+x**5+3*x**3+2*x**2+x+3\n",
        "eq1=lambdify(x,eq_prime)\n",
        "actual=eq1(2.1)\n",
        "print(actual)"
      ],
      "execution_count": 0,
      "outputs": [
        {
          "output_type": "stream",
          "text": [
            "168.31013100000004\n"
          ],
          "name": "stdout"
        }
      ]
    },
    {
      "cell_type": "markdown",
      "metadata": {
        "id": "dB1V1KRZchZG",
        "colab_type": "text"
      },
      "source": [
        "Now we will find out the value of different derivatives of the given equation for the known value of 2 and store them in a List."
      ]
    },
    {
      "cell_type": "code",
      "metadata": {
        "id": "U2NmRVIHdDwA",
        "colab_type": "code",
        "outputId": "5105366c-1c82-47d6-f660-be3a536ed18f",
        "colab": {
          "base_uri": "https://localhost:8080/",
          "height": 34
        }
      },
      "source": [
        "while n<7:\n",
        "  eq1=lambdify(x,eq_prime)\n",
        "\n",
        "  a.append(eq1(2))\n",
        "  eq_prime=eq_prime.diff(x)\n",
        "  n=n+1\n",
        "print(a)"
      ],
      "execution_count": 0,
      "outputs": [
        {
          "output_type": "stream",
          "text": [
            "[133, 317, 680, 1218, 1680, 1560]\n"
          ],
          "name": "stdout"
        }
      ]
    },
    {
      "cell_type": "markdown",
      "metadata": {
        "id": "DOaqTDMSdWiI",
        "colab_type": "text"
      },
      "source": [
        "Now we will find out the percentage of error of the value calculated using the Tyler's theorem for each iteration and store in another List."
      ]
    },
    {
      "cell_type": "code",
      "metadata": {
        "id": "IryjBfdtdgzl",
        "colab_type": "code",
        "outputId": "6ddee51a-5042-48c3-913a-929825872050",
        "colab": {
          "base_uri": "https://localhost:8080/",
          "height": 119
        }
      },
      "source": [
        "i=0\n",
        "j=1\n",
        "final=0\n",
        "h=.1\n",
        "error=[]\n",
        "e=0\n",
        "while j<6:\n",
        "  while i<j:\n",
        "    final=final+(a[i]*(h**i))/fac(i)\n",
        "    i=i+1\n",
        "  print(final)\n",
        "  e=((actual-final)/actual)*100\n",
        "  error.append(e)\n",
        "  j=j+1\n",
        "print(error)\n",
        "er=np.array(error)"
      ],
      "execution_count": 0,
      "outputs": [
        {
          "output_type": "stream",
          "text": [
            "133.0\n",
            "164.7\n",
            "168.1\n",
            "168.303\n",
            "168.31\n",
            "[mpf('20.979207128060541'), mpf('2.1449279247486603'), mpf('0.12484750546599399'), mpf('0.0042368216088214793'), mpf('7.7832510295377876e-5')]\n"
          ],
          "name": "stdout"
        }
      ]
    },
    {
      "cell_type": "markdown",
      "metadata": {
        "id": "aog2UuqDeIHc",
        "colab_type": "text"
      },
      "source": [
        "Now we will plot the percantage of error against the number of iteration required to get that value."
      ]
    },
    {
      "cell_type": "code",
      "metadata": {
        "id": "Y7uzg823ezk6",
        "colab_type": "code",
        "outputId": "d6aa2835-282c-474e-e827-3f424c3ff89c",
        "colab": {
          "base_uri": "https://localhost:8080/",
          "height": 333
        }
      },
      "source": [
        "plt.plot([1,2,3,4,5],er,'o-')\n",
        "plt.subplot().set(xlabel='Number of iterations',ylabel='Percantage of error',\n",
        "       title='')\n",
        "plt.show()"
      ],
      "execution_count": 0,
      "outputs": [
        {
          "output_type": "stream",
          "text": [
            "/usr/local/lib/python3.6/dist-packages/ipykernel_launcher.py:2: MatplotlibDeprecationWarning: Adding an axes using the same arguments as a previous axes currently reuses the earlier instance.  In a future version, a new instance will always be created and returned.  Meanwhile, this warning can be suppressed, and the future behavior ensured, by passing a unique label to each axes instance.\n",
            "  \n"
          ],
          "name": "stderr"
        },
        {
          "output_type": "display_data",
          "data": {
            "image/png": "[encoded data removed]",
            "text/plain": [
              "<Figure size 432x288 with 1 Axes>"
            ]
          },
          "metadata": {
            "tags": []
          }
        }
      ]
    },
    {
      "cell_type": "markdown",
      "metadata": {
        "id": "yPwQxoNZhiOU",
        "colab_type": "text"
      },
      "source": [
        "**Observation:** From the graph we can see that for the first iteration the percentage of error is high which is approximately *21%*. For 2nd iteration that is *2%* and for 3rd, 4th iteration the percentage of error is *0.123%* and *0.00424%* respectively. For the 5th iteration the error is significantly low."
      ]
    },
    {
      "cell_type": "markdown",
      "metadata": {
        "id": "VuQtlXVXjeYv",
        "colab_type": "text"
      },
      "source": [
        "**Conclusion:** The value obtained using the Taylor's Method tends to be more accurate with more number of derivatives of the actual equation."
      ]
    }
  ]
}