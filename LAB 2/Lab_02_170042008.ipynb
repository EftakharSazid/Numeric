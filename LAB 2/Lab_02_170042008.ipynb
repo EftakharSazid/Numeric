{
  "nbformat": 4,
  "nbformat_minor": 0,
  "metadata": {
    "colab": {
      "name": "Lab_02_170042008.ipynb",
      "provenance": [],
      "collapsed_sections": []
    },
    "kernelspec": {
      "name": "python3",
      "display_name": "Python 3"
    }
  },
  "cells": [
    {
      "cell_type": "markdown",
      "metadata": {
        "id": "iGEwlD2aOu2q",
        "colab_type": "text"
      },
      "source": [
        "\n",
        "<h1> Math 4544 Numerical Analysis Lab</h1>\n",
        "<h2> Lab 02 <h2>\n",
        "\n",
        "The Objectives of this weeks lab is to implement and understand different methods to find out the roots of non linear equation. At the successful completion of this lab you should be able to implement different methods of solving non linear equation and understand their basic workflow along with their performance comparison. \n",
        "\n",
        "Implement the follwoing methods in the lab. \n",
        "- Bisection method\n",
        "- Newton-Raphson method\n",
        "- False Position method\n",
        "- Secand method\n",
        "\n",
        "Go to  [matplotlib.pyplot tutorials](https://matplotlib.org/gallery/index.html#pyplot) for all kinds of help regarding plot. "
      ]
    },
    {
      "cell_type": "markdown",
      "metadata": {
        "id": "5arcEKH0RTrD",
        "colab_type": "text"
      },
      "source": [
        "### Task 01 : Bisection method ###\n",
        "In this task you have to implement the body of the function `bisection__().` For more about the bisection method please visit [lecture note on bisection](http://mathforcollege.com/nm/mws/gen/03nle/mws_gen_nle_txt_bisection.pdf)"
      ]
    },
    {
      "cell_type": "code",
      "metadata": {
        "id": "-K8xhhiMafr2",
        "colab_type": "code",
        "colab": {}
      },
      "source": [
        "from sympy import *\n",
        "from numpy import *\n",
        "from math import *\n",
        "import numpy as np\n",
        "import matplotlib.pyplot as plt\n",
        "\n"
      ],
      "execution_count": 0,
      "outputs": []
    },
    {
      "cell_type": "code",
      "metadata": {
        "id": "jjYYnhpvazXy",
        "colab_type": "code",
        "outputId": "59558692-f3fe-4169-83b0-09db5813b258",
        "colab": {
          "base_uri": "https://localhost:8080/",
          "height": 51
        }
      },
      "source": [
        "x=Symbol('x')\n",
        "eq=np.e**x+x**2+3*x+2\n",
        "print(eq)\n",
        "eq1=lambdify(x,eq)\n",
        "print(eq1(-1.7874157307991467))\n"
      ],
      "execution_count": 0,
      "outputs": [
        {
          "output_type": "stream",
          "text": [
            "2.71828182845905**x + x**2 + 3*x + 2\n",
            "3.552713678800501e-15\n"
          ],
          "name": "stdout"
        }
      ]
    },
    {
      "cell_type": "code",
      "metadata": {
        "id": "8r8DcYPdQcsZ",
        "colab_type": "code",
        "colab": {}
      },
      "source": [
        "def bisection__(f,xl, xu, maxIter=20, threshold=0.2):\n",
        "  array_of_values=[]\n",
        "  array_of_approximations=[]\n",
        "\n",
        "  for i in range(maxIter):\n",
        "    value1=f(xl)\n",
        "    value2=f(xu)\n",
        "    xm=(xl+xu)/2\n",
        "    #print(i,xm,value1,value2,xl,xu)\n",
        "    array_of_values.append(xm)\n",
        "    if (value1*f(xm)<0):\n",
        "      xu=xm\n",
        "    elif(value1*f(xm)>0):\n",
        "      xl=xm\n",
        "    elif(value1*f(xm)==0):\n",
        "      break\n",
        "    #error=(abs(xm-array_of_values[i-1])/xm)\n",
        "    #array_of_approximations.append(error)\n",
        "\n",
        "  #return array_of_approximations\n",
        "  return array_of_values\n",
        "\n",
        "# xl: lower bound of approximation\n",
        "# xu: upper bound of approximation\n",
        "# maxIter: maximum number of iterations\n",
        "# threshold: threshold of error in percentage\n",
        "# array_of_approximations: list of all approximation over 50 iterations"
      ],
      "execution_count": 0,
      "outputs": []
    },
    {
      "cell_type": "code",
      "metadata": {
        "id": "bQo84uY7g67y",
        "colab_type": "code",
        "outputId": "d6be7185-76d9-4e57-b78f-443be2fc0ba3",
        "colab": {
          "base_uri": "https://localhost:8080/",
          "height": 71
        }
      },
      "source": [
        "print(eq)\n",
        "print(bisection__(eq1,-10,1))"
      ],
      "execution_count": 0,
      "outputs": [
        {
          "output_type": "stream",
          "text": [
            "2.71828182845905**x + x**2 + 3*x + 2\n",
            "[-4.5, -1.75, -3.125, -2.4375, -2.09375, -1.921875, -1.8359375, -1.79296875, -1.771484375, -1.7822265625, -1.78759765625, -1.784912109375, -1.7862548828125, -1.78692626953125, -1.787261962890625, -1.7874298095703125, -1.7873458862304688, -1.7873878479003906, -1.7874088287353516, -1.787419319152832]\n"
          ],
          "name": "stdout"
        }
      ]
    },
    {
      "cell_type": "markdown",
      "metadata": {
        "id": "G_eMZ4CaShpF",
        "colab_type": "text"
      },
      "source": [
        "### Task 02 : Newton Raphson Method ###\n",
        "In this task you have to implement the body of the function` newton__().` For more about the bisection method please visit [lecture note on newton raphson method](https://nm.mathforcollege.com/mws/gen/03nle/mws_gen_nle_txt_newton.pdf)"
      ]
    },
    {
      "cell_type": "code",
      "metadata": {
        "id": "kWnmplEpOrxD",
        "colab_type": "code",
        "colab": {}
      },
      "source": [
        "def newton__(fx,x0, maxIter=20, threshold=0.2):\n",
        "  approx_values=[]\n",
        "  array_of_approximations=[]\n",
        "  Fx=lambdify(x,fx)\n",
        "\n",
        "  fxPrime=fx.diff(x)\n",
        "  FxPrime=lambdify(x,fxPrime)\n",
        "\n",
        "  approx_values.append(x0)\n",
        "  for i in range(maxIter):\n",
        "    x1=x0-(Fx(x0)/FxPrime(x0))\n",
        "    approx_values.append(x1)\n",
        "    x0=x1\n",
        "    \n",
        "  return approx_values\n",
        "\n",
        "# x0: initial approximation\n",
        "# maxIter: maximum number of iterations\n",
        "# threshold: threshold of error in percentage\n",
        "# array_of_approximations: list of all approximation over 50 iterations"
      ],
      "execution_count": 0,
      "outputs": []
    },
    {
      "cell_type": "code",
      "metadata": {
        "id": "RRHkc1_xrPI9",
        "colab_type": "code",
        "outputId": "cb36ee0e-f276-4792-e2ad-04650cc5dd44",
        "colab": {
          "base_uri": "https://localhost:8080/",
          "height": 71
        }
      },
      "source": [
        "print(eq)\n",
        "print(newton__(eq,0))"
      ],
      "execution_count": 0,
      "outputs": [
        {
          "output_type": "stream",
          "text": [
            "2.71828182845905**x + x**2 + 3*x + 2\n",
            "[0, -0.75, -1.1479313843313141, -1.3351638108764807, -1.4031241567369495, -1.4149825082279563, -1.4153647116866974, -1.4153651092060742, -1.4153651092065032, -1.415365109206501, -1.4153651092065032, -1.415365109206501, -1.4153651092065032, -1.415365109206501, -1.4153651092065032, -1.415365109206501, -1.4153651092065032, -1.415365109206501, -1.4153651092065032, -1.415365109206501, -1.4153651092065032]\n"
          ],
          "name": "stdout"
        }
      ]
    },
    {
      "cell_type": "markdown",
      "metadata": {
        "id": "Nk-zDTSiTJkJ",
        "colab_type": "text"
      },
      "source": [
        "### Task 03 : False Position Method ###\n",
        "In this task you have to implement the body of the function `falsePosition__().` For more about the  method please visit [lecture note on false position method](https://nm.mathforcollege.com/mws/gen/03nle/mws_gen_nle_ppt_falseposition.pdf)"
      ]
    },
    {
      "cell_type": "code",
      "metadata": {
        "id": "NRBjcKQsTGmr",
        "colab_type": "code",
        "colab": {}
      },
      "source": [
        "def falsePosition__(fx, xl, xu, maxIter=20, threshold=0.2):\n",
        "  array_of_values=[]\n",
        "  array_of_approximations=[]\n",
        "  for i in range(maxIter):\n",
        "    value1=fx(xl)\n",
        "    value2=fx(xu)\n",
        "    xm=((xu*value1)-(xl*value2))/(value1-value2)\n",
        "    array_of_values.append(xm)\n",
        "    if (value1*fx(xm)<0):\n",
        "      xu=xm\n",
        "    elif(value1*fx(xm)>0):\n",
        "      xl=xm\n",
        "    elif(value1*fx(xm)==0):\n",
        "       break\n",
        "  return array_of_values\n",
        "# x0: initial approximation\n",
        "# maxIter: maximum number of iterations\n",
        "# threshold: threshold of error in percentage\n",
        "# array_of_approximations: list of all approximation over 50 iterations"
      ],
      "execution_count": 0,
      "outputs": []
    },
    {
      "cell_type": "code",
      "metadata": {
        "id": "eBTc2N-NM6sO",
        "colab_type": "code",
        "outputId": "2092b2fe-b773-4b04-cb2e-92b21eb68f43",
        "colab": {
          "base_uri": "https://localhost:8080/",
          "height": 54
        }
      },
      "source": [
        "#print(eq(0))\n",
        "print(falsePosition__(eq1, 0,1))"
      ],
      "execution_count": 0,
      "outputs": [
        {
          "output_type": "stream",
          "text": [
            "[-0.5246331135813279, -0.7901520460966331, -0.9482944293338975, -1.0522898150047542, -1.125321118933914, -1.1790411949819033, -1.2199316493605619, -1.2518796768169655, -1.2773562105561271, -1.2980063916134388, -1.3149676881552166, -1.3290515979402966, -1.340852562948666, -1.350815955200662, -1.35928200686521, -1.3665150562769621, -1.3727235319677733, -1.3780739249591607, -1.3827007591422065, -1.3867138371450523]\n"
          ],
          "name": "stdout"
        }
      ]
    },
    {
      "cell_type": "markdown",
      "metadata": {
        "id": "uSi57AuETtEm",
        "colab_type": "text"
      },
      "source": [
        "### Task 04 : Secant Method ###\n",
        "In this task you have to implement the body of the function `secant__()`. For more about the  method please visit [lecture note on secant method](https://nm.mathforcollege.com/mws/gen/03nle/mws_gen_nle_ppt_secant.pdf)"
      ]
    },
    {
      "cell_type": "markdown",
      "metadata": {
        "id": "sZ2cAtXTT0Vm",
        "colab_type": "text"
      },
      "source": [
        ""
      ]
    },
    {
      "cell_type": "code",
      "metadata": {
        "id": "VuPnxob6TvJ-",
        "colab_type": "code",
        "colab": {}
      },
      "source": [
        "def secant__(fx, x0, maxIter=20, threshold=0.2):\n",
        "  array_of_values=[]\n",
        "  array_of_values.append(x0)\n",
        "  x1=-1.0\n",
        "  for i in range(maxIter):\n",
        "    value1=fx(x0)\n",
        "    value2=fx(x1)\n",
        "    if(value1*value2==0):\n",
        "      break\n",
        "   # print(i,value1,x0,x1)\n",
        "  #E  print(i,value2,x0,x1)\n",
        "    x2=x0-((value1*(x0-x1))/(value1-value2))\n",
        "    x0=x2\n",
        "    array_of_values.append(x0)\n",
        "    x1=array_of_values[i]\n",
        "  return array_of_values\n",
        "# x0: initial approximation\n",
        "# maxIter: maximum number of iterations\n",
        "# threshold: threshold of error in percentage\n",
        "# array_of_approximations: list of all approximation over 50 iterations"
      ],
      "execution_count": 0,
      "outputs": []
    },
    {
      "cell_type": "code",
      "metadata": {
        "id": "SPAIiPZvVB1n",
        "colab_type": "code",
        "outputId": "8ba22ac0-c300-4676-eb66-b33b582f65f5",
        "colab": {
          "base_uri": "https://localhost:8080/",
          "height": 34
        }
      },
      "source": [
        "#print(eq1(0)-eq1(-1))\n",
        "#print(eq1(0))\n",
        "print(secant__(eq1, 0))\n"
      ],
      "execution_count": 0,
      "outputs": [
        {
          "output_type": "stream",
          "text": [
            "[0, -1.139765422194479, -1.2210302801407804, -1.3507263690780458, -1.395182454825426, -1.4124732322396234, -1.415215550092343, -1.4153639418097699, -1.4153651087315904, -1.4153651092065012, -1.4153651092065034]\n"
          ],
          "name": "stdout"
        }
      ]
    },
    {
      "cell_type": "markdown",
      "metadata": {
        "id": "LBRWyRtAULE1",
        "colab_type": "text"
      },
      "source": [
        "### Task 05 : Calculate the relative approximate error ###\n",
        "Implement the function `calc_error()` which takes a list of assumption as a list and returns a list of relative approximate values. "
      ]
    },
    {
      "cell_type": "code",
      "metadata": {
        "id": "OIqiH46vUont",
        "colab_type": "code",
        "colab": {}
      },
      "source": [
        "def calc_error(assumptions):\n",
        "  rel_approx_errors=[]\n",
        "  length=len(assumptions)\n",
        "  for i in range(0,length-1):\n",
        "    error=abs(assumptions[i+1]-assumptions[i])/assumptions[i+1]\n",
        "    rel_error=error*100\n",
        "    rel_approx_errors.append(rel_error)\n",
        "  return rel_approx_errors\n",
        "# assumptions: list of assumptions returned by any previous method implemented successfully\n",
        "# rel_approx_errors: list of calculated relative approximate error values. \n",
        "# ** make sure that you use absolute value here. "
      ],
      "execution_count": 0,
      "outputs": []
    },
    {
      "cell_type": "code",
      "metadata": {
        "id": "OkAWX4_Wr7qW",
        "colab_type": "code",
        "outputId": "3cfb15f9-06ed-4172-9923-5a16be348c0b",
        "colab": {
          "base_uri": "https://localhost:8080/",
          "height": 105
        }
      },
      "source": [
        "print(calc_error(secant__(eq1,0)))\n",
        "print(calc_error(bisection__(eq1,-9,1)))\n",
        "print(calc_error(newton__(eq,0)))\n",
        "print(calc_error(falsePosition__(eq1,0,1)))"
      ],
      "execution_count": 0,
      "outputs": [
        {
          "output_type": "stream",
          "text": [
            "[-100.0, -6.655433470243817, -9.601951357904632, -3.1863994270873173, -1.2241490330249416, -0.19377386381463685, -0.010484350564790709, -8.244669967535573e-05, -3.3553941260905214e-08, -1.568815025046903e-13]\n",
            "[-166.66666666666669, -45.45454545454545, -29.411764705882355, -17.24137931034483, -9.433962264150944, -4.504504504504505, -2.2026431718061676, -1.0893246187363834, -0.547645125958379, -0.2730748225013654, -0.13672409078479628, -0.06831534362617844, -0.03414600833162603, -0.017075919538267138, -0.008537230863797018, -0.004268433228899001, -0.002134171066616016, -0.0010670969201448692, -0.0005335513068272158]\n",
            "[-100.0, -34.66508449571789, -14.023180153621459, -4.843501947718914, -0.8380564015492755, -0.027003884976445167, -2.8085995208128783e-05, -3.0309506283906166e-11, -1.5688150250469057e-13, -1.5688150250469031e-13, -1.5688150250469057e-13, -1.5688150250469031e-13, -1.5688150250469057e-13, -1.5688150250469031e-13, -1.5688150250469057e-13, -1.5688150250469031e-13, -1.5688150250469057e-13, -1.5688150250469031e-13, -1.5688150250469057e-13, -1.5688150250469031e-13]\n",
            "[-33.603524008698585, -16.67650661497052, -9.882770334557197, -6.489819012580779, -4.556250983988202, -3.3518643769994547, -2.552004641343397, -1.9944737050340704, -1.5909152058676077, -1.2898641308497096, -1.0596962380472366, -0.8801090689954749, -0.7375832520808425, -0.6228326147031514, -0.5293062362194779, -0.4522742960420766, -0.38825152225022747, -0.3346229581819383, -0.2893948192734453]\n"
          ],
          "name": "stdout"
        }
      ]
    },
    {
      "cell_type": "markdown",
      "metadata": {
        "id": "ZXggqPmWVWQG",
        "colab_type": "text"
      },
      "source": [
        "### Task 06: Ploting the errors###\n",
        "Plot all the errors from the previous four methods in one graph to compare their comparative efficiency. Make sure that you use appropriate legend/labels in the plot to differentiate different curves."
      ]
    },
    {
      "cell_type": "code",
      "metadata": {
        "id": "h0g_qQ8UVwRa",
        "colab_type": "code",
        "outputId": "29450cc1-1aa3-4b2c-bbc3-908b233a813e",
        "colab": {
          "base_uri": "https://localhost:8080/",
          "height": 626
        }
      },
      "source": [
        "bisection__error=calc_error(bisection__(eq1,-9,1))\n",
        "#newton_error=calc_error(newton__(eq,0))\n",
        "#falsePosition_error=calc_error(falsePosition__(eq1,0,1))\n",
        "#secant_error=calc_error(secant__(eq1,0))\n",
        "print(len(bisection__error))\n",
        "bisection_len=np.linspace(0,20)\n",
        "\n",
        "plt.plot(np.array(bisection_len),np.array(bisection__error),'r')\n",
        "plt.show()"
      ],
      "execution_count": 0,
      "outputs": [
        {
          "output_type": "stream",
          "text": [
            "19\n"
          ],
          "name": "stdout"
        },
        {
          "output_type": "error",
          "ename": "ValueError",
          "evalue": "ignored",
          "traceback": [
            "\u001b[0;31m---------------------------------------------------------------------------\u001b[0m",
            "\u001b[0;31mValueError\u001b[0m                                Traceback (most recent call last)",
            "\u001b[0;32m<ipython-input-158-3f60ee137da5>\u001b[0m in \u001b[0;36m<module>\u001b[0;34m()\u001b[0m\n\u001b[1;32m      6\u001b[0m \u001b[0mbisection_len\u001b[0m\u001b[0;34m=\u001b[0m\u001b[0mnp\u001b[0m\u001b[0;34m.\u001b[0m\u001b[0mlinspace\u001b[0m\u001b[0;34m(\u001b[0m\u001b[0;36m0\u001b[0m\u001b[0;34m,\u001b[0m\u001b[0;36m20\u001b[0m\u001b[0;34m)\u001b[0m\u001b[0;34m\u001b[0m\u001b[0;34m\u001b[0m\u001b[0m\n\u001b[1;32m      7\u001b[0m \u001b[0;34m\u001b[0m\u001b[0m\n\u001b[0;32m----> 8\u001b[0;31m \u001b[0mplt\u001b[0m\u001b[0;34m.\u001b[0m\u001b[0mplot\u001b[0m\u001b[0;34m(\u001b[0m\u001b[0mnp\u001b[0m\u001b[0;34m.\u001b[0m\u001b[0marray\u001b[0m\u001b[0;34m(\u001b[0m\u001b[0mbisection_len\u001b[0m\u001b[0;34m)\u001b[0m\u001b[0;34m,\u001b[0m\u001b[0mnp\u001b[0m\u001b[0;34m.\u001b[0m\u001b[0marray\u001b[0m\u001b[0;34m(\u001b[0m\u001b[0mbisection__error\u001b[0m\u001b[0;34m)\u001b[0m\u001b[0;34m,\u001b[0m\u001b[0;34m'r'\u001b[0m\u001b[0;34m)\u001b[0m\u001b[0;34m\u001b[0m\u001b[0;34m\u001b[0m\u001b[0m\n\u001b[0m\u001b[1;32m      9\u001b[0m \u001b[0mplt\u001b[0m\u001b[0;34m.\u001b[0m\u001b[0mshow\u001b[0m\u001b[0;34m(\u001b[0m\u001b[0;34m)\u001b[0m\u001b[0;34m\u001b[0m\u001b[0;34m\u001b[0m\u001b[0m\n",
            "\u001b[0;32m/usr/local/lib/python3.6/dist-packages/matplotlib/pyplot.py\u001b[0m in \u001b[0;36mplot\u001b[0;34m(scalex, scaley, data, *args, **kwargs)\u001b[0m\n\u001b[1;32m   2794\u001b[0m     return gca().plot(\n\u001b[1;32m   2795\u001b[0m         *args, scalex=scalex, scaley=scaley, **({\"data\": data} if data\n\u001b[0;32m-> 2796\u001b[0;31m         is not None else {}), **kwargs)\n\u001b[0m\u001b[1;32m   2797\u001b[0m \u001b[0;34m\u001b[0m\u001b[0m\n\u001b[1;32m   2798\u001b[0m \u001b[0;34m\u001b[0m\u001b[0m\n",
            "\u001b[0;32m/usr/local/lib/python3.6/dist-packages/matplotlib/axes/_axes.py\u001b[0m in \u001b[0;36mplot\u001b[0;34m(self, scalex, scaley, data, *args, **kwargs)\u001b[0m\n\u001b[1;32m   1663\u001b[0m         \"\"\"\n\u001b[1;32m   1664\u001b[0m         \u001b[0mkwargs\u001b[0m \u001b[0;34m=\u001b[0m \u001b[0mcbook\u001b[0m\u001b[0;34m.\u001b[0m\u001b[0mnormalize_kwargs\u001b[0m\u001b[0;34m(\u001b[0m\u001b[0mkwargs\u001b[0m\u001b[0;34m,\u001b[0m \u001b[0mmlines\u001b[0m\u001b[0;34m.\u001b[0m\u001b[0mLine2D\u001b[0m\u001b[0;34m.\u001b[0m\u001b[0m_alias_map\u001b[0m\u001b[0;34m)\u001b[0m\u001b[0;34m\u001b[0m\u001b[0;34m\u001b[0m\u001b[0m\n\u001b[0;32m-> 1665\u001b[0;31m         \u001b[0mlines\u001b[0m \u001b[0;34m=\u001b[0m \u001b[0;34m[\u001b[0m\u001b[0;34m*\u001b[0m\u001b[0mself\u001b[0m\u001b[0;34m.\u001b[0m\u001b[0m_get_lines\u001b[0m\u001b[0;34m(\u001b[0m\u001b[0;34m*\u001b[0m\u001b[0margs\u001b[0m\u001b[0;34m,\u001b[0m \u001b[0mdata\u001b[0m\u001b[0;34m=\u001b[0m\u001b[0mdata\u001b[0m\u001b[0;34m,\u001b[0m \u001b[0;34m**\u001b[0m\u001b[0mkwargs\u001b[0m\u001b[0;34m)\u001b[0m\u001b[0;34m]\u001b[0m\u001b[0;34m\u001b[0m\u001b[0;34m\u001b[0m\u001b[0m\n\u001b[0m\u001b[1;32m   1666\u001b[0m         \u001b[0;32mfor\u001b[0m \u001b[0mline\u001b[0m \u001b[0;32min\u001b[0m \u001b[0mlines\u001b[0m\u001b[0;34m:\u001b[0m\u001b[0;34m\u001b[0m\u001b[0;34m\u001b[0m\u001b[0m\n\u001b[1;32m   1667\u001b[0m             \u001b[0mself\u001b[0m\u001b[0;34m.\u001b[0m\u001b[0madd_line\u001b[0m\u001b[0;34m(\u001b[0m\u001b[0mline\u001b[0m\u001b[0;34m)\u001b[0m\u001b[0;34m\u001b[0m\u001b[0;34m\u001b[0m\u001b[0m\n",
            "\u001b[0;32m/usr/local/lib/python3.6/dist-packages/matplotlib/axes/_base.py\u001b[0m in \u001b[0;36m__call__\u001b[0;34m(self, *args, **kwargs)\u001b[0m\n\u001b[1;32m    223\u001b[0m                 \u001b[0mthis\u001b[0m \u001b[0;34m+=\u001b[0m \u001b[0margs\u001b[0m\u001b[0;34m[\u001b[0m\u001b[0;36m0\u001b[0m\u001b[0;34m]\u001b[0m\u001b[0;34m,\u001b[0m\u001b[0;34m\u001b[0m\u001b[0;34m\u001b[0m\u001b[0m\n\u001b[1;32m    224\u001b[0m                 \u001b[0margs\u001b[0m \u001b[0;34m=\u001b[0m \u001b[0margs\u001b[0m\u001b[0;34m[\u001b[0m\u001b[0;36m1\u001b[0m\u001b[0;34m:\u001b[0m\u001b[0;34m]\u001b[0m\u001b[0;34m\u001b[0m\u001b[0;34m\u001b[0m\u001b[0m\n\u001b[0;32m--> 225\u001b[0;31m             \u001b[0;32myield\u001b[0m \u001b[0;32mfrom\u001b[0m \u001b[0mself\u001b[0m\u001b[0;34m.\u001b[0m\u001b[0m_plot_args\u001b[0m\u001b[0;34m(\u001b[0m\u001b[0mthis\u001b[0m\u001b[0;34m,\u001b[0m \u001b[0mkwargs\u001b[0m\u001b[0;34m)\u001b[0m\u001b[0;34m\u001b[0m\u001b[0;34m\u001b[0m\u001b[0m\n\u001b[0m\u001b[1;32m    226\u001b[0m \u001b[0;34m\u001b[0m\u001b[0m\n\u001b[1;32m    227\u001b[0m     \u001b[0;32mdef\u001b[0m \u001b[0mget_next_color\u001b[0m\u001b[0;34m(\u001b[0m\u001b[0mself\u001b[0m\u001b[0;34m)\u001b[0m\u001b[0;34m:\u001b[0m\u001b[0;34m\u001b[0m\u001b[0;34m\u001b[0m\u001b[0m\n",
            "\u001b[0;32m/usr/local/lib/python3.6/dist-packages/matplotlib/axes/_base.py\u001b[0m in \u001b[0;36m_plot_args\u001b[0;34m(self, tup, kwargs)\u001b[0m\n\u001b[1;32m    389\u001b[0m             \u001b[0mx\u001b[0m\u001b[0;34m,\u001b[0m \u001b[0my\u001b[0m \u001b[0;34m=\u001b[0m \u001b[0mindex_of\u001b[0m\u001b[0;34m(\u001b[0m\u001b[0mtup\u001b[0m\u001b[0;34m[\u001b[0m\u001b[0;34m-\u001b[0m\u001b[0;36m1\u001b[0m\u001b[0;34m]\u001b[0m\u001b[0;34m)\u001b[0m\u001b[0;34m\u001b[0m\u001b[0;34m\u001b[0m\u001b[0m\n\u001b[1;32m    390\u001b[0m \u001b[0;34m\u001b[0m\u001b[0m\n\u001b[0;32m--> 391\u001b[0;31m         \u001b[0mx\u001b[0m\u001b[0;34m,\u001b[0m \u001b[0my\u001b[0m \u001b[0;34m=\u001b[0m \u001b[0mself\u001b[0m\u001b[0;34m.\u001b[0m\u001b[0m_xy_from_xy\u001b[0m\u001b[0;34m(\u001b[0m\u001b[0mx\u001b[0m\u001b[0;34m,\u001b[0m \u001b[0my\u001b[0m\u001b[0;34m)\u001b[0m\u001b[0;34m\u001b[0m\u001b[0;34m\u001b[0m\u001b[0m\n\u001b[0m\u001b[1;32m    392\u001b[0m \u001b[0;34m\u001b[0m\u001b[0m\n\u001b[1;32m    393\u001b[0m         \u001b[0;32mif\u001b[0m \u001b[0mself\u001b[0m\u001b[0;34m.\u001b[0m\u001b[0mcommand\u001b[0m \u001b[0;34m==\u001b[0m \u001b[0;34m'plot'\u001b[0m\u001b[0;34m:\u001b[0m\u001b[0;34m\u001b[0m\u001b[0;34m\u001b[0m\u001b[0m\n",
            "\u001b[0;32m/usr/local/lib/python3.6/dist-packages/matplotlib/axes/_base.py\u001b[0m in \u001b[0;36m_xy_from_xy\u001b[0;34m(self, x, y)\u001b[0m\n\u001b[1;32m    268\u001b[0m         \u001b[0;32mif\u001b[0m \u001b[0mx\u001b[0m\u001b[0;34m.\u001b[0m\u001b[0mshape\u001b[0m\u001b[0;34m[\u001b[0m\u001b[0;36m0\u001b[0m\u001b[0;34m]\u001b[0m \u001b[0;34m!=\u001b[0m \u001b[0my\u001b[0m\u001b[0;34m.\u001b[0m\u001b[0mshape\u001b[0m\u001b[0;34m[\u001b[0m\u001b[0;36m0\u001b[0m\u001b[0;34m]\u001b[0m\u001b[0;34m:\u001b[0m\u001b[0;34m\u001b[0m\u001b[0;34m\u001b[0m\u001b[0m\n\u001b[1;32m    269\u001b[0m             raise ValueError(\"x and y must have same first dimension, but \"\n\u001b[0;32m--> 270\u001b[0;31m                              \"have shapes {} and {}\".format(x.shape, y.shape))\n\u001b[0m\u001b[1;32m    271\u001b[0m         \u001b[0;32mif\u001b[0m \u001b[0mx\u001b[0m\u001b[0;34m.\u001b[0m\u001b[0mndim\u001b[0m \u001b[0;34m>\u001b[0m \u001b[0;36m2\u001b[0m \u001b[0;32mor\u001b[0m \u001b[0my\u001b[0m\u001b[0;34m.\u001b[0m\u001b[0mndim\u001b[0m \u001b[0;34m>\u001b[0m \u001b[0;36m2\u001b[0m\u001b[0;34m:\u001b[0m\u001b[0;34m\u001b[0m\u001b[0;34m\u001b[0m\u001b[0m\n\u001b[1;32m    272\u001b[0m             raise ValueError(\"x and y can be no greater than 2-D, but have \"\n",
            "\u001b[0;31mValueError\u001b[0m: x and y must have same first dimension, but have shapes (50,) and (19,)"
          ]
        },
        {
          "output_type": "display_data",
          "data": {
            "image/png": "[encoded data removed]",
            "text/plain": [
              "<Figure size 432x288 with 1 Axes>"
            ]
          },
          "metadata": {
            "tags": []
          }
        }
      ]
    }
  ]
}