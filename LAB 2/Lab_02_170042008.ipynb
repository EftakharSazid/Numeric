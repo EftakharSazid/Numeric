{
  "nbformat": 4,
  "nbformat_minor": 0,
  "metadata": {
    "colab": {
      "name": "Lab_02_170042008.ipynb",
      "provenance": [],
      "collapsed_sections": []
    },
    "kernelspec": {
      "name": "python3",
      "display_name": "Python 3"
    }
  },
  "cells": [
    {
      "cell_type": "markdown",
      "metadata": {
        "id": "iGEwlD2aOu2q",
        "colab_type": "text"
      },
      "source": [
        "\n",
        "<h1> Math 4544 Numerical Analysis Lab</h1>\n",
        "<h2> Lab 02 <h2>\n",
        "\n",
        "The Objectives of this weeks lab is to implement and understand different methods to find out the roots of non linear equation. At the successful completion of this lab you should be able to implement different methods of solving non linear equation and understand their basic workflow along with their performance comparison. \n",
        "\n",
        "Implement the follwoing methods in the lab. \n",
        "- Bisection method\n",
        "- Newton-Raphson method\n",
        "- False Position method\n",
        "- Secand method\n",
        "\n",
        "Go to  [matplotlib.pyplot tutorials](https://matplotlib.org/gallery/index.html#pyplot) for all kinds of help regarding plot. "
      ]
    },
    {
      "cell_type": "markdown",
      "metadata": {
        "id": "5arcEKH0RTrD",
        "colab_type": "text"
      },
      "source": [
        "### Task 01 : Bisection method ###\n",
        "In this task you have to implement the body of the function `bisection__().` For more about the bisection method please visit [lecture note on bisection](http://mathforcollege.com/nm/mws/gen/03nle/mws_gen_nle_txt_bisection.pdf)"
      ]
    },
    {
      "cell_type": "code",
      "metadata": {
        "id": "-K8xhhiMafr2",
        "colab_type": "code",
        "colab": {}
      },
      "source": [
        "from sympy import *\n",
        "from numpy import *\n",
        "from math import *\n",
        "import numpy as np\n",
        "import matplotlib.pyplot as plt\n",
        "\n"
      ],
      "execution_count": 0,
      "outputs": []
    },
    {
      "cell_type": "code",
      "metadata": {
        "id": "jjYYnhpvazXy",
        "colab_type": "code",
        "outputId": "95580a4d-42b7-4c22-aa51-8d5ab082f427",
        "colab": {
          "base_uri": "https://localhost:8080/",
          "height": 34
        }
      },
      "source": [
        "x=Symbol('x')\n",
        "eq=np.e**x+x**2+3*x+2\n",
        "print(eq)\n",
        "eq1=lambdify(x,eq)\n",
        "\n"
      ],
      "execution_count": 87,
      "outputs": [
        {
          "output_type": "stream",
          "text": [
            "2.71828182845905**x + x**2 + 3*x + 2\n"
          ],
          "name": "stdout"
        }
      ]
    },
    {
      "cell_type": "code",
      "metadata": {
        "id": "8r8DcYPdQcsZ",
        "colab_type": "code",
        "colab": {}
      },
      "source": [
        "def bisection__(f,xl, xu, maxIter=20, threshold=0.2):\n",
        "  array_of_values=[]\n",
        "  array_of_approximations=[]\n",
        "\n",
        "  for i in range(maxIter):\n",
        "    value1=f(xl)\n",
        "    value2=f(xu)\n",
        "    xm=(xl+xu)/2\n",
        "    array_of_values.append(xm)\n",
        "    if (value1*f(xm)<0):\n",
        "      xu=xm\n",
        "    elif(value1*f(xm)>0):\n",
        "      xl=xm\n",
        "    elif(value1*f(xm)==0):\n",
        "      break\n",
        "  return array_of_values\n",
        "\n",
        "# xl: lower bound of approximation\n",
        "# xu: upper bound of approximation\n",
        "# maxIter: maximum number of iterations\n",
        "# threshold: threshold of error in percentage\n",
        "# array_of_approximations: list of all approximation over 50 iterations"
      ],
      "execution_count": 0,
      "outputs": []
    },
    {
      "cell_type": "markdown",
      "metadata": {
        "id": "G_eMZ4CaShpF",
        "colab_type": "text"
      },
      "source": [
        "### Task 02 : Newton Raphson Method ###\n",
        "In this task you have to implement the body of the function` newton__().` For more about the bisection method please visit [lecture note on newton raphson method](https://nm.mathforcollege.com/mws/gen/03nle/mws_gen_nle_txt_newton.pdf)"
      ]
    },
    {
      "cell_type": "code",
      "metadata": {
        "id": "kWnmplEpOrxD",
        "colab_type": "code",
        "colab": {}
      },
      "source": [
        "def newton__(fx,x0, maxIter=20, threshold=0.2):\n",
        "  approx_values=[]\n",
        "  Fx=lambdify(x,fx)\n",
        "\n",
        "  fxPrime=fx.diff(x)\n",
        "  FxPrime=lambdify(x,fxPrime)\n",
        "\n",
        "  approx_values.append(x0)\n",
        "  for i in range(maxIter):\n",
        "    x1=x0-(Fx(x0)/FxPrime(x0))\n",
        "    approx_values.append(x1)\n",
        "    x0=x1\n",
        "    \n",
        "  return approx_values\n",
        "\n",
        "# x0: initial approximation\n",
        "# maxIter: maximum number of iterations\n",
        "# threshold: threshold of error in percentage\n",
        "# array_of_approximations: list of all approximation over 50 iterations"
      ],
      "execution_count": 0,
      "outputs": []
    },
    {
      "cell_type": "markdown",
      "metadata": {
        "id": "Nk-zDTSiTJkJ",
        "colab_type": "text"
      },
      "source": [
        "### Task 03 : False Position Method ###\n",
        "In this task you have to implement the body of the function `falsePosition__().` For more about the  method please visit [lecture note on false position method](https://nm.mathforcollege.com/mws/gen/03nle/mws_gen_nle_ppt_falseposition.pdf)"
      ]
    },
    {
      "cell_type": "code",
      "metadata": {
        "id": "NRBjcKQsTGmr",
        "colab_type": "code",
        "colab": {}
      },
      "source": [
        "def falsePosition__(fx, xl, xu, maxIter=20, threshold=0.2):\n",
        "  array_of_values=[]\n",
        "  array_of_approximations=[]\n",
        "  for i in range(maxIter):\n",
        "    value1=fx(xl)\n",
        "    value2=fx(xu)\n",
        "    xm=((xu*value1)-(xl*value2))/(value1-value2)\n",
        "    array_of_values.append(xm)\n",
        "    if (value1*fx(xm)<0):\n",
        "      xu=xm\n",
        "    elif(value1*fx(xm)>0):\n",
        "      xl=xm\n",
        "    elif(value1*fx(xm)==0):\n",
        "       break\n",
        "  return array_of_values\n",
        "# x0: initial approximation\n",
        "# maxIter: maximum number of iterations\n",
        "# threshold: threshold of error in percentage\n",
        "# array_of_approximations: list of all approximation over 50 iterations"
      ],
      "execution_count": 0,
      "outputs": []
    },
    {
      "cell_type": "markdown",
      "metadata": {
        "id": "uSi57AuETtEm",
        "colab_type": "text"
      },
      "source": [
        "### Task 04 : Secant Method ###\n",
        "In this task you have to implement the body of the function `secant__()`. For more about the  method please visit [lecture note on secant method](https://nm.mathforcollege.com/mws/gen/03nle/mws_gen_nle_ppt_secant.pdf)"
      ]
    },
    {
      "cell_type": "markdown",
      "metadata": {
        "id": "sZ2cAtXTT0Vm",
        "colab_type": "text"
      },
      "source": [
        ""
      ]
    },
    {
      "cell_type": "code",
      "metadata": {
        "id": "VuPnxob6TvJ-",
        "colab_type": "code",
        "colab": {}
      },
      "source": [
        "def secant__(fx, x0, maxIter=20, threshold=0.2):\n",
        "  array_of_values=[]\n",
        "  array_of_values.append(x0)\n",
        "  x1=-1.0\n",
        "  for i in range(maxIter):\n",
        "    value1=fx(x0)\n",
        "    value2=fx(x1)\n",
        "    if(value1*value2==0):\n",
        "      break\n",
        "    x2=x0-((value1*(x0-x1))/(value1-value2))\n",
        "    x0=x2\n",
        "    array_of_values.append(x0)\n",
        "    x1=array_of_values[i]\n",
        "  return array_of_values\n",
        "# x0: initial approximation\n",
        "# maxIter: maximum number of iterations\n",
        "# threshold: threshold of error in percentage\n",
        "# array_of_approximations: list of all approximation over 50 iterations"
      ],
      "execution_count": 0,
      "outputs": []
    },
    {
      "cell_type": "markdown",
      "metadata": {
        "id": "LBRWyRtAULE1",
        "colab_type": "text"
      },
      "source": [
        "### Task 05 : Calculate the relative approximate error ###\n",
        "Implement the function `calc_error()` which takes a list of assumption as a list and returns a list of relative approximate values. "
      ]
    },
    {
      "cell_type": "code",
      "metadata": {
        "id": "OIqiH46vUont",
        "colab_type": "code",
        "colab": {}
      },
      "source": [
        "def calc_error(assumptions):\n",
        "  rel_approx_errors=[]\n",
        "  length=len(assumptions)\n",
        "  for i in range(0,length-1):\n",
        "    error=abs((assumptions[i+1]-assumptions[i])/assumptions[i+1])\n",
        "    rel_error=error*100\n",
        "    rel_approx_errors.append(rel_error)\n",
        "  return rel_approx_errors\n",
        "# assumptions: list of assumptions returned by any previous method implemented successfully\n",
        "# rel_approx_errors: list of calculated relative approximate error values. \n",
        "# ** make sure that you use absolute value here. "
      ],
      "execution_count": 0,
      "outputs": []
    },
    {
      "cell_type": "code",
      "metadata": {
        "id": "OkAWX4_Wr7qW",
        "colab_type": "code",
        "outputId": "0f15388e-7464-41a6-ca5a-67ad83acf19e",
        "colab": {
          "base_uri": "https://localhost:8080/",
          "height": 105
        }
      },
      "source": [
        "print(calc_error(secant__(eq1,0)))\n",
        "print(calc_error(bisection__(eq1,-9,1)))\n",
        "print(calc_error(newton__(eq,0)))\n",
        "print(calc_error(falsePosition__(eq1,0,1)))"
      ],
      "execution_count": 97,
      "outputs": [
        {
          "output_type": "stream",
          "text": [
            "[100.0, 6.655433470243817, 9.601951357904632, 3.1863994270873173, 1.2241490330249416, 0.19377386381463685, 0.010484350564790709, 8.244669967535573e-05, 3.3553941260905214e-08, 1.568815025046903e-13]\n",
            "[166.66666666666669, 45.45454545454545, 29.411764705882355, 17.24137931034483, 9.433962264150944, 4.504504504504505, 2.2026431718061676, 1.0893246187363834, 0.547645125958379, 0.2730748225013654, 0.13672409078479628, 0.06831534362617844, 0.03414600833162603, 0.017075919538267138, 0.008537230863797018, 0.004268433228899001, 0.002134171066616016, 0.0010670969201448692, 0.0005335513068272158]\n",
            "[100.0, 34.66508449571789, 14.023180153621459, 4.843501947718914, 0.8380564015492755, 0.027003884976445167, 2.8085995208128783e-05, 3.0309506283906166e-11, 1.5688150250469057e-13, 1.5688150250469031e-13, 1.5688150250469057e-13, 1.5688150250469031e-13, 1.5688150250469057e-13, 1.5688150250469031e-13, 1.5688150250469057e-13, 1.5688150250469031e-13, 1.5688150250469057e-13, 1.5688150250469031e-13, 1.5688150250469057e-13, 1.5688150250469031e-13]\n",
            "[33.603524008698585, 16.67650661497052, 9.882770334557197, 6.489819012580779, 4.556250983988202, 3.3518643769994547, 2.552004641343397, 1.9944737050340704, 1.5909152058676077, 1.2898641308497096, 1.0596962380472366, 0.8801090689954749, 0.7375832520808425, 0.6228326147031514, 0.5293062362194779, 0.4522742960420766, 0.38825152225022747, 0.3346229581819383, 0.2893948192734453]\n"
          ],
          "name": "stdout"
        }
      ]
    },
    {
      "cell_type": "markdown",
      "metadata": {
        "id": "ZXggqPmWVWQG",
        "colab_type": "text"
      },
      "source": [
        "### Task 06: Ploting the errors###\n",
        "Plot all the errors from the previous four methods in one graph to compare their comparative efficiency. Make sure that you use appropriate legend/labels in the plot to differentiate different curves."
      ]
    },
    {
      "cell_type": "code",
      "metadata": {
        "id": "h0g_qQ8UVwRa",
        "colab_type": "code",
        "outputId": "e73e0274-613f-4f6f-c9f2-fbd15b1d5ddd",
        "colab": {
          "base_uri": "https://localhost:8080/",
          "height": 286
        }
      },
      "source": [
        "bisection__error=calc_error(bisection__(eq1,-9,1))\n",
        "bisection=np.linspace(0,len(bisection__error),len(bisection__error))\n",
        "B_M=np.array(bisection)\n",
        "\n",
        "newton_error=calc_error(newton__(eq,0))\n",
        "newton=np.linspace(0,len(newton_error),len(newton_error))\n",
        "NWT=np.array(newton)\n",
        "\n",
        "falsePosition_error=calc_error(falsePosition__(eq1,0,1))\n",
        "false_pos=np.linspace(0,len(falsePosition_error),len(falsePosition_error))\n",
        "fp=np.array(false_pos)\n",
        "\n",
        "secant_error=calc_error(secant__(eq1,0))\n",
        "Sec=np.linspace(0,len(secant_error),len(secant_error))\n",
        "SC=np.array(Sec)\n",
        "\n",
        "plt.plot(br,bisection__error,'-ro')\n",
        "plt.plot(NWT,newton_error,'-bo')\n",
        "plt.plot(fp,falsePosition_error,'-go')\n",
        "plt.plot(SC,secant_error,'-co')\n",
        "\n",
        "plt.legend(('Bisection Method','Newton Method','False Position Method','Secant Method'))\n",
        "plt.show"
      ],
      "execution_count": 99,
      "outputs": [
        {
          "output_type": "execute_result",
          "data": {
            "text/plain": [
              "<function matplotlib.pyplot.show>"
            ]
          },
          "metadata": {
            "tags": []
          },
          "execution_count": 99
        },
        {
          "output_type": "display_data",
          "data": {
            "image/png": "[encoded data removed]",
            "text/plain": [
              "<Figure size 432x288 with 1 Axes>"
            ]
          },
          "metadata": {
            "tags": []
          }
        }
      ]
    },
    {
      "cell_type": "markdown",
      "metadata": {
        "id": "srTkiVyksHlF",
        "colab_type": "text"
      },
      "source": [
        "### **Observation:**\n",
        "After plotting the error approximation we can see that the error approximations of all the methods graduallu becomes zero. The initail error in Bisection, Newton and Secant method is high because of the initially guessed value. But eventually it becomes almost zero. Among the four methods Secant method takes least iterations to find the root. The rest of the methods took more iterations to find it. "
      ]
    }
  ]
}