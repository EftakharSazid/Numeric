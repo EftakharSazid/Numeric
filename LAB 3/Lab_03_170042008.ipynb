{
  "nbformat": 4,
  "nbformat_minor": 0,
  "metadata": {
    "colab": {
      "name": "Lab_03_170042008.ipynb",
      "provenance": [],
      "collapsed_sections": []
    },
    "kernelspec": {
      "name": "python3",
      "display_name": "Python 3"
    }
  },
  "cells": [
    {
      "cell_type": "markdown",
      "metadata": {
        "id": "iGEwlD2aOu2q",
        "colab_type": "text"
      },
      "source": [
        "\n",
        "<h1> Math 4544 Numerical Analysis Lab</h1>\n",
        "<h2> Lab 03 <h2>\n",
        "\n",
        "The Objectives of this weeks lab is to implement and understand different methods of Interpolation. \n",
        "<br>\n",
        "\n",
        "In the mathematical field of numerical analysis, interpolation is a type of estimation, a method of constructing new data points within the range of a discrete set of known data points.\n",
        "\n",
        "In engineering and science, one often has a number of data points, obtained by sampling or experimentation, which represent the values of a function for a limited number of values of the independent variable. It is often required to interpolate, i.e., estimate the value of that function for an intermediate value of the independent variable. A closely related problem is the approximation of a complicated function by a simple function. Suppose the formula for some given function is known, but too complicated to evaluate efficiently. A few data points from the original function can be interpolated to produce a simpler function which is still fairly close to the original. The resulting gain in simplicity may outweigh the loss from interpolation error. For more basics of interpolation check interpolation on  [Wikipedia](https://en.wikipedia.org/wiki/Interpolation) \n",
        " \n",
        "\n",
        "At the successful completion of this lab you should be able to implement different methods of linear and non linear interpolation. \n",
        "\n",
        "\n",
        "\n",
        "Go to  [matplotlib.pyplot tutorials](https://matplotlib.org/gallery/index.html#pyplot) for all kinds of help regarding plot. For interpolation lectures, you can have a look at the class [lecture.](http://mathforcollege.com/nm/mws/gen/05inp/mws_gen_inp_txt_lagrange.pdf) \n"
      ]
    },
    {
      "cell_type": "markdown",
      "metadata": {
        "id": "yh3QEXQ2eP44",
        "colab_type": "text"
      },
      "source": [
        "## Task 01: Implementing $n^{th}$ order lagrangian interpolation ##\n",
        "The upward velocity of a rocket is given in the following table. \n",
        "\n",
        "| t (s) |  v(t) (m/s) |\n",
        "| --- | --- | \n",
        "| 0 | 0 | \n",
        "| 10 | 227.04 | \n",
        "| 15 | 362.78 | \n",
        "| 20 | 517.35 | \n",
        "| 22.5 | 602.97 | \n",
        "| 30 | 901.67 | \n",
        "| 32.5 | 1010.27 | \n",
        "| 37 | 1125 | \n",
        "| 40 | 1175 | \n",
        "| 42 | 1205 | \n",
        "| 45 | 1230 | \n",
        "| 49 | 1260 | \n",
        "| 52 | 1290 | \n",
        "| 54 | 1340 | \n",
        "\n",
        "\n",
        "*    \n",
        "\n",
        "*    Determine the value of the velolcity at $t = 27$ using an $ n^{th}$ order lagrangian interpolation. Your solution should take $n$ as an input and should be able to select closest $(n+1)$ points for finding out the lagrangian coeffecients. "
      ]
    },
    {
      "cell_type": "code",
      "metadata": {
        "id": "h0g_qQ8UVwRa",
        "colab_type": "code",
        "outputId": "dde83c74-d5d5-4d8f-8aa3-77dfc19c388c",
        "colab": {
          "base_uri": "https://localhost:8080/",
          "height": 295
        }
      },
      "source": [
        "#dataset description\n",
        "import numpy as np\n",
        "import matplotlib.pyplot  as plt  \n",
        "t = np.array([0,10,15,20,22.5,30,32.5,37,40,42,45,49,52,54])\n",
        "vt = np.array([0,227.04,362.78,517.35,602.97,901.67,1010.27,1125,1175,1205,1230,1260,1290,1340])\n",
        "plt.plot(t, vt, color='b', marker='o', label='original')\n",
        "plt.title('Velocity as a function of time')\n",
        "plt.xlabel('Time')\n",
        "plt.ylabel('Velocity')\n",
        "plt.legend()\n",
        "plt.show()\n"
      ],
      "execution_count": 58,
      "outputs": [
        {
          "output_type": "display_data",
          "data": {
            "image/png": "[encoded data removed]",
            "text/plain": [
              "<Figure size 432x288 with 1 Axes>"
            ]
          },
          "metadata": {
            "tags": []
          }
        }
      ]
    },
    {
      "cell_type": "markdown",
      "metadata": {
        "id": "yEr1wdfykqYq",
        "colab_type": "text"
      },
      "source": [
        "Take $n$ as an input [Try values like 2, 3, 4] and select closest $(n+1)$ data points from the given data. "
      ]
    },
    {
      "cell_type": "code",
      "metadata": {
        "id": "f1ui8-Iv1Lxk",
        "colab_type": "code",
        "colab": {}
      },
      "source": [
        "from heapq import nsmallest\n",
        "\n",
        "def trimmer__(t_in, vt_in, n, x_in):\n",
        "  \n",
        "    # t_in : time list\n",
        "    # vt_in: velocity list\n",
        "    # x_in : value of t at which vt should be calculated\n",
        "    # output : closest n+1 points to the query\n",
        "    dic=dict(zip(t_in,vt_in))\n",
        "    t_trimmed=nsmallest(n+1,dic, key=lambda x: abs(x-x_in) )\n",
        "    vt_trimmed=[dic[a] for a in t_trimmed] \n",
        "\n",
        "    output = [t_trimmed, vt_trimmed]\n",
        "    return output"
      ],
      "execution_count": 0,
      "outputs": []
    },
    {
      "cell_type": "code",
      "metadata": {
        "id": "eYJPyc4iOqSO",
        "colab_type": "code",
        "colab": {
          "base_uri": "https://localhost:8080/",
          "height": 34
        },
        "outputId": "46e63497-c7bd-4a42-a18d-033805ed2c28"
      },
      "source": [
        "t_trimmed,vt_trimmed = trimmer__(t,vt,5,27)\n",
        "print(t_trimmed,vt_trimmed)"
      ],
      "execution_count": 66,
      "outputs": [
        {
          "output_type": "stream",
          "text": [
            "[30.0, 22.5, 32.5, 20.0, 37.0, 15.0] [901.67, 602.97, 1010.27, 517.35, 1125.0, 362.78]\n"
          ],
          "name": "stdout"
        }
      ]
    },
    {
      "cell_type": "code",
      "metadata": {
        "id": "6Geb3pXyngyI",
        "colab_type": "code",
        "colab": {}
      },
      "source": [
        "def Li(t_trim, x, i):\n",
        "    # li: ith lagrangian multiplier\n",
        "    li=1\n",
        "    for j in range(len(t_trim)):\n",
        "      if(j!=i):\n",
        "        li=li*((x-t_trim[j])/(t_trim[i]-t_trim[j]))\n",
        "    return li\n",
        "    "
      ],
      "execution_count": 0,
      "outputs": []
    },
    {
      "cell_type": "code",
      "metadata": {
        "id": "CvMD40UWR1JS",
        "colab_type": "code",
        "colab": {
          "base_uri": "https://localhost:8080/",
          "height": 34
        },
        "outputId": "39fe5f01-8d71-4a94-d8ef-b059fa5835fb"
      },
      "source": [
        "Li(t_trimmed,27,0)"
      ],
      "execution_count": 67,
      "outputs": [
        {
          "output_type": "execute_result",
          "data": {
            "text/plain": [
              "1.0559999999999998"
            ]
          },
          "metadata": {
            "tags": []
          },
          "execution_count": 67
        }
      ]
    },
    {
      "cell_type": "code",
      "metadata": {
        "id": "Rg6WcjUoltkc",
        "colab_type": "code",
        "colab": {}
      },
      "source": [
        "def nth_lagrangian(t, vt, x, n):\n",
        "    # t: input time list\n",
        "    # vt: input velocity list\n",
        "    # x : value of t at which vt should be calculated\n",
        "    # n : order of the lagrangian interpolation\n",
        "    # At first select n+1 closest data points from the given data and then from those data points,\n",
        "    #  calulate the lagrangian multipliers. \n",
        "    #>>>>>>> use trimmer__ function here <<<<<<<<<<\n",
        "    t_trimmed,vt_trimmed=trimmer__(t,vt,n,x)\n",
        "    # Calculate the lagrangian multipliers and store them in an array\n",
        "\n",
        "    L=[]\n",
        "    for i in range(n+1):\n",
        "      L.append(Li(t_trimmed,x,i))\n",
        "    #>>>> you have to implement function Li() here and call that <<<<\n",
        "\n",
        "    value=0\n",
        "    for j in range(n+1):\n",
        "      value=value+(L[j]*vt_trimmed[j])\n",
        "\n",
        "    return value\n",
        "\n"
      ],
      "execution_count": 0,
      "outputs": []
    },
    {
      "cell_type": "code",
      "metadata": {
        "id": "eQiz2F8xU3Bb",
        "colab_type": "code",
        "colab": {
          "base_uri": "https://localhost:8080/",
          "height": 34
        },
        "outputId": "67bfca3b-7da8-4454-bb99-161976907925"
      },
      "source": [
        "print(nth_lagrangian(t,vt,27,4))"
      ],
      "execution_count": 64,
      "outputs": [
        {
          "output_type": "stream",
          "text": [
            "770.4582387018254\n"
          ],
          "name": "stdout"
        }
      ]
    },
    {
      "cell_type": "code",
      "metadata": {
        "id": "OAjTC91NV6Yp",
        "colab_type": "code",
        "colab": {
          "base_uri": "https://localhost:8080/",
          "height": 349
        },
        "outputId": "627eeec8-fd4f-4fcf-8db7-dc90b81a143e"
      },
      "source": [
        "# plot the original data\n",
        "# plot the approximation within n+1 data points using your calculated interpolant\n",
        "# plot the single point x and velocity at x with a stem plot.\n",
        "\n",
        "t_trimmed, vt_trimmed = trimmer__(t,vt,4,27)\n",
        "x_axis=np.arange(start = min(t_trimmed), stop=max(t_trimmed), step = 1 )\n",
        "y_axis=[nth_lagrangian(t,vt,i,4) for i in x_axis]\n",
        "\n",
        "plt.plot(t, vt, color='b', marker='o', label='original')\n",
        "plt.plot(x_axis,y_axis,color='g',marker='o', label='approximation')\n",
        "plt.stem([27],[nth_lagrangian(t,vt,27,4)],linefmt= 'r')\n",
        "plt.title('Velocity as a function of time')\n",
        "plt.xlabel('Time')\n",
        "plt.ylabel('Velocity')\n",
        "plt.legend()\n",
        "plt.show()\n"
      ],
      "execution_count": 70,
      "outputs": [
        {
          "output_type": "stream",
          "text": [
            "/usr/local/lib/python3.6/dist-packages/ipykernel_launcher.py:8: UserWarning: In Matplotlib 3.3 individual lines on a stem plot will be added as a LineCollection instead of individual lines. This significantly improves the performance of a stem plot. To remove this warning and switch to the new behaviour, set the \"use_line_collection\" keyword argument to True.\n",
            "  \n"
          ],
          "name": "stderr"
        },
        {
          "output_type": "display_data",
          "data": {
            "image/png": "[encoded data removed]",
            "text/plain": [
              "<Figure size 432x288 with 1 Axes>"
            ]
          },
          "metadata": {
            "tags": []
          }
        }
      ]
    },
    {
      "cell_type": "markdown",
      "metadata": {
        "id": "dPUi_mf8pjEL",
        "colab_type": "text"
      },
      "source": [
        "### Observations ###\n",
        "The $n^{th}$ order Lagrangian interpolation let's us estimate new data points within a range of data points. Here the Lagrangian interpolation is implemented and the approximation within n+1 data points has been estimated. As we can see from the graph the approximated data points are within the range of the actual data points as the graphs concides."
      ]
    }
  ]
}